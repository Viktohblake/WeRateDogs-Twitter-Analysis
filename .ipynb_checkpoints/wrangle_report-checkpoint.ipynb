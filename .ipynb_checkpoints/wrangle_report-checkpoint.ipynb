{
 "cells": [
  {
   "cell_type": "markdown",
   "id": "67b830ec",
   "metadata": {},
   "source": [
    "## Wrangle report"
   ]
  },
  {
   "cell_type": "markdown",
   "id": "8ff51ecb",
   "metadata": {},
   "source": [
    "#### The wrangling part of this project covers almost 80% of the works, it was an amazing part of it beause I had to make a lot of research and learn new things to be able to solve some of the issues that needed cleaning."
   ]
  },
  {
   "cell_type": "markdown",
   "id": "81430208",
   "metadata": {},
   "source": [
    "### On the visual assessment and wrangling part of this project I had to make use of microsoft excel so as to get a better look on the data. and also the programmatic assessment and wrangling part of this project was a tricky one but it was nice overall"
   ]
  },
  {
   "cell_type": "markdown",
   "id": "c2126fdc",
   "metadata": {},
   "source": [
    "#### - 1. I noticed was the Bad representation of source column, it's using a href html tag.. but that's not what we are interested in, so I had to extract the text string in the tag and rename the source column.\n",
    "\n",
    "#### - 2. Too many Null values in retweeted_status_id, retweeted_status_user_id and retweeted_status_timestamp column, that I saw, and further into the programmatic assessment I investigated it and found out there were a few actually values, and from the start of this project also we were told we don't need retweets or replies in our tweet archive, so I had to drop the column along side rows having retweet_status_id values.\n",
    "\n",
    "#### - 3. There were Wrong representation of name column values, empty/missing value is showing as 'None'. Looking further into the  tail of the data we can see 'a' as names in 3 rows which are clearly not names. So this definietly had to be checked further.\n",
    "\n",
    "#### - 4. I noticed a tidiness issue from looking at all of the datasets, they all needed to be combined as one to from a whole main dataset, since some of them were ordered in ascending or descending order. I had to make sure they were all in the same order and also matched them with the tweet_id during the merge to avoid mixing them up. Also from the tweet archive since column [doggo, floofer, pupper and puppo] are all dog types, they can be all joined to form a new column called dog_types.\n",
    "\n",
    "#### 5. One other obvious thing I had to check was for the datatype of each columns, eg. the timestamp was an object string which is supposed to be datetime datatype. Also tweet_id was too long to be an integer so I also had to change it to a string type.\n",
    "\n",
    "#### 6. Another interesting thing was the unique rating pattern for WeRateDogs, I had to check how their rating works and fix our Rating numerator and rating denominator column in our dataset."
   ]
  }
 ],
 "metadata": {
  "kernelspec": {
   "display_name": "Python 3 (ipykernel)",
   "language": "python",
   "name": "python3"
  },
  "language_info": {
   "codemirror_mode": {
    "name": "ipython",
    "version": 3
   },
   "file_extension": ".py",
   "mimetype": "text/x-python",
   "name": "python",
   "nbconvert_exporter": "python",
   "pygments_lexer": "ipython3",
   "version": "3.9.12"
  }
 },
 "nbformat": 4,
 "nbformat_minor": 5
}
